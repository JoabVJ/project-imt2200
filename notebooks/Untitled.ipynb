{
 "cells": [
  {
   "cell_type": "markdown",
   "id": "3d8b3550-e9f1-4a38-a1f5-f97653ca94fb",
   "metadata": {},
   "source": [
    "JAJAJA solo para ver los cambios"
   ]
  },
  {
   "cell_type": "code",
   "execution_count": null,
   "id": "80b069cd-2c42-4e6b-b54c-5064278ebbd0",
   "metadata": {},
   "outputs": [],
   "source": []
  }
 ],
 "metadata": {
  "kernelspec": {
   "display_name": "Python [conda env:base] *",
   "language": "python",
   "name": "conda-base-py"
  },
  "language_info": {
   "codemirror_mode": {
    "name": "ipython",
    "version": 3
   },
   "file_extension": ".py",
   "mimetype": "text/x-python",
   "name": "python",
   "nbconvert_exporter": "python",
   "pygments_lexer": "ipython3",
   "version": "3.13.5"
  }
 },
 "nbformat": 4,
 "nbformat_minor": 5
}
