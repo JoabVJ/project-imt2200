{
 "cells": [
  {
   "cell_type": "code",
   "execution_count": null,
   "id": "4b938051-f7d1-450c-a1b1-325172ddfb38",
   "metadata": {},
   "outputs": [],
   "source": []
  }
 ],
 "metadata": {
  "kernelspec": {
   "display_name": "",
   "name": ""
  },
  "language_info": {
   "name": ""
  }
 },
 "nbformat": 4,
 "nbformat_minor": 5
}
