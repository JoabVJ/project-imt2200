{
 "cells": [
  {
   "cell_type": "markdown",
   "id": "ea25e5ba-8001-44b3-a238-adf192aba4b3",
   "metadata": {},
   "source": [
    "**IMT2200 - Introducción a Ciencia de Datos**  \n",
    "**Pontificia Universidad Católica de Chile**  \n",
    "**Instituto de Ingeniería Matemática y Computacional**\n",
    "**2025 - Segundo Semestre**\n",
    "\n",
    "**Profesor:** Rodrigo A. Carrasco "
   ]
  },
  {
   "cell_type": "markdown",
   "id": "1eb20f61-ad51-473a-9b0a-4f0622773824",
   "metadata": {},
   "source": [
    "---\n",
    "\n",
    "# 🩺 **Enfermedades respiratorias en urgencias: pre y post COVID-19**\n",
    "\n",
    "---\n",
    "\n",
    "###  **Integrantes**\n",
    "- Santiago Gonzáles  \n",
    "- Fernanda Le Roy  \n",
    "- Joab Vivanco  \n",
    "\n",
    "---\n",
    "\n",
    "📅 **Fecha de entrega inicial:** 21 de octubre de 2025  \n",
    "\n",
    "\n",
    "---\n"
   ]
  },
  {
   "cell_type": "markdown",
   "id": "991bd10e-fd5f-4c4c-b570-be2e1ecf616f",
   "metadata": {},
   "source": [
    "## Contexto y motivación\n",
    "\n",
    "La pandemia de **COVID-19** produjo un cambio radical en los patrones de consulta por enfermedades respiratorias en los servicios de urgencia.  \n",
    "Antes del 2020, la frecuencia con la que se presentaban virus respiratorios como **influenza**, **virus sincicial** y **adenovirus** determinaba los flujos de pacientes.  \n",
    "\n",
    "Sin embargo, tras las medidas de confinamiento, el uso de mascarillas y el cambio en conductas sociales, se observaron variaciones en la **incidencia y distribución** de estas patologías.\n",
    "\n",
    "La motivación de este proyecto es analizar si, efectivamente, la pandemia **alteró la cantidad de atenciones por enfermedades respiratorias en urgencias** y si estas modificaciones se han mantenido en los años posteriores al confinamiento.  \n",
    "\n",
    "El problema es relevante porque los servicios de urgencia deben **planificar sus recursos humanos y materiales** de acuerdo con la demanda, y comprender estas tendencias puede facilitar la preparación frente a **futuras crisis sanitarias**.\n",
    "\n",
    "La **audiencia objetivo** de este análisis son principalmente las **autoridades de salud pública** (Ministerio de Salud, Servicios de Salud regionales) y los **equipos de gestión hospitalaria**, quienes requieren información basada en datos para optimizar políticas de prevención, campañas de vacunación y asignación de recursos.\n"
   ]
  },
  {
   "cell_type": "markdown",
   "id": "618da1be-f73c-4518-9b15-3b33765b6cdc",
   "metadata": {},
   "source": [
    "## Objetivos y preguntas de investigación\n",
    "\n",
    "### Objetivo general\n",
    "\n",
    "Analizar la **evolución de las consultas por enfermedades respiratorias en servicios de urgencia en Chile**, comparando el periodo previo y posterior a la pandemia de COVID-19, para identificar **tendencias y cambios significativos**.\n",
    "\n",
    "---\n",
    "\n",
    "### Objetivos específicos\n",
    "\n",
    "- Describir la **incidencia de patologías respiratorias** atendidas en urgencias en la última década.  \n",
    "- Comparar la **distribución temporal** de estas consultas antes y después de la pandemia.  \n",
    "- Identificar **diferencias en prevalencia** según grupo etario, región y nivel de gravedad.  \n",
    "- Explorar qué patologías han experimentado **mayores variaciones en frecuencia** tras el COVID-19.  \n",
    "- Generar evidencia que pueda ser utilizada para la **planificación de servicios de salud**.\n",
    "\n",
    "---\n",
    "\n",
    "### Pregunta principal\n",
    "\n",
    "> **¿Se ha observado un aumento de las enfermedades respiratorias que motivan consultas en urgencias tras la pandemia, en comparación con el periodo previo al COVID-19?**\n",
    "\n",
    "---\n",
    "\n",
    "### Preguntas secundarias\n",
    "\n",
    "1. ¿Cómo influye el **tipo de patología** en la clasificación del nivel de urgencia (leve, moderado, grave)?  \n",
    "2. ¿Existen **regiones o comunas** con una mayor incidencia de enfermedades respiratorias?  \n",
    "3. ¿Qué **patologías respiratorias** han sido más prevalentes en la última década y cómo ha cambiado su distribución a lo largo de los años?  \n",
    "4. ¿Cuál es la **relación entre los rangos etarios** y la prevalencia de enfermedades respiratorias, y qué patologías son más comunes en cada grupo de edad?  \n",
    "\n",
    "---\n",
    "\n",
    "📌 En conjunto, estas preguntas abordan las dimensiones **clínica, geográfica, temporal y poblacional** del fenómeno estudiado, aportando una visión integral que permitirá responder la pregunta de investigación principal.\n"
   ]
  },
  {
   "cell_type": "markdown",
   "id": "5a93d975-d4a1-4fd7-aac7-605d2baa45d5",
   "metadata": {},
   "source": [
    "---\n",
    "\n",
    "🧭 En las siguientes secciones se presentan los datos utilizados, el proceso de limpieza y un análisis exploratorio que busca responder las preguntas planteadas."
   ]
  },
  {
   "cell_type": "markdown",
   "id": "6acb1471-cd24-4faa-a7d5-c48a64a76743",
   "metadata": {},
   "source": [
    "## Descripción de los datos\n",
    "\n",
    "Los datos utilizados provienen de la **Plataforma de Datos Abiertos del Gobierno de Chile**, específicamente del conjunto **“Atenciones de urgencia por causas respiratorias”**  \n",
    "(https://datos.gob.cl/dataset/atenciones-de-urgencia-causas-respiratorias).\n",
    "\n",
    "El registro se realiza **semanalmente** e incluye información sobre las atenciones por enfermedades respiratorias en establecimientos de salud de todo el país, principalmente del **sector público**.\n",
    "\n",
    "Cada fila del dataset representa un **establecimiento en una semana específica**, e incluye tanto variables **administrativas** como **epidemiológicas**.\n",
    "\n",
    "---\n",
    "\n",
    "###  Variables principales\n",
    "\n",
    "- **EstablecimientoCodigo:** Identificador único del establecimiento.  \n",
    "- **RegionGlosa / ComunaGlosa:** Región y comuna donde se ubica el establecimiento.  \n",
    "- **Causa:** Tipo de enfermedad respiratoria (ej. influenza, virus sincicial, adenovirus).  \n",
    "- **Anio / SemanaEstadistica:** Año y semana epidemiológica del registro.  \n",
    "- **NumTotal:** Número total de consultas por causas respiratorias.  \n",
    "- **NumMenor1Anio, Num1a4Anios, Num5a14Anios, Num15a64Anios, Num65Mas:** Distribución de consultas por grupo etario.  \n",
    "- **NivelAtencion / TipoEstablecimiento / NivelComplejidad:** Clasificación administrativa y operativa del centro de salud.\n",
    "\n",
    "---\n",
    "\n",
    " En términos generales, el dataset contiene **múltiples años (2013 en adelante)** y permite analizar la **evolución temporal, distribución geográfica y diferencias por edad o tipo de patología** en las consultas de urgencia respiratoria en Chile."
   ]
  },
  {
   "cell_type": "markdown",
   "id": "b7bd2d47-e574-48ef-abae-e51af615e554",
   "metadata": {},
   "source": [
    "Antes de realizar el análisis exploratorio, es necesario definir la estrategia de procesamiento que seguiremos con los datos.\n",
    "\n",
    "###  Estrategia de procesamiento: ELT vs ETL\n",
    "\n",
    "Existen dos enfoques comunes para trabajar con datos:\n",
    "\n",
    "- **ETL (Extract → Transform → Load):**  \n",
    " \n",
    "- **ELT (Extract → Load → Transform):**  \n",
    " \n",
    "\n",
    "### En este proyecto utilizaremos ELT\n",
    "\n",
    "Optamos por **ELT** porque:\n",
    "\n",
    "- El dataset es **público, estructurado y grande**, con posibles ajustes menores (nulos, formato de texto, nombres).  \n",
    "- Nos permite **mantener una copia cruda** en la carpeta `/data/raw/` y trabajar las transformaciones directamente en el notebook.  \n",
    "- Facilita la **reproducibilidad y trazabilidad** del proceso, mostrando cada paso de limpieza dentro del análisis.\n",
    "\n",
    "---"
   ]
  },
  {
   "cell_type": "markdown",
   "id": "c3caeadc-56d8-4bfb-acf0-8f69b1e946b0",
   "metadata": {},
   "source": [
    "##  Limpieza y preparación de los datos"
   ]
  },
  {
   "cell_type": "code",
   "execution_count": 2,
   "id": "115b54bb-4b23-4056-8909-b7a8d56f117b",
   "metadata": {},
   "outputs": [],
   "source": [
    "# librerías usadas\n",
    "import pandas as pd\n",
    "import numpy as np\n",
    "import matplotlib as plt"
   ]
  },
  {
   "cell_type": "code",
   "execution_count": null,
   "id": "e74f367e-3727-4f99-958d-f57a532ea16c",
   "metadata": {},
   "outputs": [],
   "source": [
    "# Identificar columnas con valores faltantes (df.isna().sum())"
   ]
  },
  {
   "cell_type": "code",
   "execution_count": null,
   "id": "bdf0b0e6-104d-426b-9acb-35bfc7cc1bcd",
   "metadata": {},
   "outputs": [],
   "source": [
    "# Eliminar o imputar los NaN según criterio "
   ]
  },
  {
   "cell_type": "code",
   "execution_count": null,
   "id": "44a392c4-56cc-4256-bb4d-f688be2d4e99",
   "metadata": {},
   "outputs": [],
   "source": [
    "# Homogeneizar nombres de regiones y comunas o lo que dijo el Santi tmb que algunas aparecían con mayúscula y otras no"
   ]
  },
  {
   "cell_type": "code",
   "execution_count": null,
   "id": "420a7734-8a9a-4140-906e-f6cca85d0748",
   "metadata": {},
   "outputs": [],
   "source": [
    "# Guardar el dataset limpiado"
   ]
  },
  {
   "cell_type": "markdown",
   "id": "406373fe-cb68-4b6f-b69b-4caf93ef47e0",
   "metadata": {},
   "source": [
    "## Análisis exploratorio de datos (EDA)\n",
    "\n",
    "En esta etapa se realizará un análisis de los datos para poder responder las **preguntas de investigación secundarias y la pregunta principal** de nuestro proyecto.\n",
    "\n",
    "---"
   ]
  },
  {
   "cell_type": "markdown",
   "id": "9fb2916a-95f3-47af-9aee-8fc6822cba7a",
   "metadata": {},
   "source": [
    "### **1. Influencia del tipo de patología en el nivel de urgencia**"
   ]
  },
  {
   "cell_type": "markdown",
   "id": "f323a08c-1419-4c9d-9427-5f067cb5943a",
   "metadata": {},
   "source": [
    "**Objetivo:** Analizar cómo el tipo de patología respiratoria se relaciona con la clasificación del nivel de urgencia (leve, moderado, grave)."
   ]
  },
  {
   "cell_type": "code",
   "execution_count": null,
   "id": "6d17328a-0a81-4a3c-8320-9822bb26b904",
   "metadata": {},
   "outputs": [],
   "source": [
    "# cosas que debemos hacer para poder responder esta pregunta\n",
    "# 1. Seleccionar las columnas relevantes: `Causa` y `TipoUrgencia`."
   ]
  },
  {
   "cell_type": "code",
   "execution_count": null,
   "id": "a97cfbeb-7987-4811-9611-a1f8051fa445",
   "metadata": {},
   "outputs": [],
   "source": [
    "# Agrupar los datos por tipo de patología y nivel de urgencia."
   ]
  },
  {
   "cell_type": "code",
   "execution_count": null,
   "id": "d53f16cd-aba3-4c0b-912e-b6e068c99418",
   "metadata": {},
   "outputs": [],
   "source": [
    "# contar cuántas atenciones corresponden a cada combinación (leve, moderado, grave)"
   ]
  },
  {
   "cell_type": "code",
   "execution_count": null,
   "id": "7ff1e82c-c847-4f6a-8cbf-c578f165aeb6",
   "metadata": {},
   "outputs": [],
   "source": [
    "# Calcular porcentajes o proporciones dentro de cada patología"
   ]
  },
  {
   "cell_type": "code",
   "execution_count": null,
   "id": "d60223fd-4145-47df-8bc1-f61765c07f21",
   "metadata": {},
   "outputs": [],
   "source": [
    "# Visualizar los resultados en un gráfico de barras o dispersión."
   ]
  },
  {
   "cell_type": "code",
   "execution_count": null,
   "id": "0497354d-95b0-4375-bd75-c21028ad7c63",
   "metadata": {},
   "outputs": [],
   "source": [
    "# con esto interpretamos los datos y respondemos la primera pregunta secundaria"
   ]
  },
  {
   "cell_type": "markdown",
   "id": "c55b9921-087d-4512-8026-1219d6ea9624",
   "metadata": {},
   "source": [
    "### **2. Incidencia geográfica de enfermedades respiratorias**"
   ]
  },
  {
   "cell_type": "markdown",
   "id": "ff957c07-2fd3-44aa-b373-0582511c0557",
   "metadata": {},
   "source": [
    "**Objetivo:** Identificar si existen regiones o comunas con una mayor incidencia de enfermedades respiratorias.\n"
   ]
  },
  {
   "cell_type": "code",
   "execution_count": 4,
   "id": "a9bb5378-ddf2-4f01-829c-1218257c0536",
   "metadata": {},
   "outputs": [],
   "source": [
    "# cosas que debemos hacer para poder resolver esta pregunta\n",
    "# Seleccionar las columnas `RegionGlosa`, `ComunaGlosa`, `NumTotal`.  \n",
    "# Agrupar los datos por región y calculamos el total de consultas respiratorias por año.  \n",
    "# Calcular la tasa de incidencia relativa leí q es algo q se hace con respecto a poblaciones o cosas así.  \n",
    "# Generar un mapa o gráfico de con la distribución regional (de esos que le gustan al profe los geo no se qué)\n",
    "# con esto interpretamos los datos y respondemos la segunda pregunta secundaria  "
   ]
  },
  {
   "cell_type": "markdown",
   "id": "9d1093b1-e7b2-4de1-9626-0f2131316920",
   "metadata": {},
   "source": [
    "###  **3. Evolución temporal de las patologías respiratorias**"
   ]
  },
  {
   "cell_type": "markdown",
   "id": "746087f5-3cde-4b2d-bbeb-7389c695f819",
   "metadata": {},
   "source": [
    "**Objetivo:** Analizar cómo han cambiado las patologías respiratorias a lo largo del tiempo, especialmente antes y después del COVID-19."
   ]
  },
  {
   "cell_type": "code",
   "execution_count": null,
   "id": "fce3e271-575a-469f-a44b-f596f35c3bb6",
   "metadata": {},
   "outputs": [],
   "source": [
    "# cosas que debemos hacer para poder resolver esta pregunta\n",
    "# Seleccionar las columnas `Anio`, `SemanaEstadistica`, `Causa`, `NumTotal`.  \n",
    "# Calculamos el número total de consultas por año y por tipo de patología.  \n",
    "# Generar una nueva columna “Periodo” (Pre-COVID / Post-COVID).  \n",
    "# Graficamos las tendencias temporales antes y después del 2020 \n",
    "#  Comparamos los valores entre ambos periodos, aqui podemos usar cosas de estadisticas, media, moda mediana, desviacion estandar, etc para comparar \n",
    "# con esto interpretamos los datos y respondemos la tercera pregunta secundaria  "
   ]
  },
  {
   "cell_type": "markdown",
   "id": "f271dc0b-83ab-4a02-ac6b-43e632940b94",
   "metadata": {},
   "source": [
    "### **4. Relación entre grupos etarios y prevalencia**"
   ]
  },
  {
   "cell_type": "markdown",
   "id": "9e39416e-771c-4379-87d5-f66473d31ea7",
   "metadata": {},
   "source": [
    "**Objetivo:** Explorar qué patologías afectan con mayor frecuencia a cada grupo etario.\n"
   ]
  },
  {
   "cell_type": "code",
   "execution_count": 6,
   "id": "0cc5ab36-41f2-4b19-a746-ce8cc25d2ac4",
   "metadata": {},
   "outputs": [],
   "source": [
    "# cosas que debemos hacer para poder resolver esta pregunta\n",
    "# Seleccionar las columnas con distribución por edad:  `NumMenor1Anio`, `Num1a4Anios`, `Num5a14Anios`, `Num15a64Anios`, `Num65Mas`.  \n",
    "# Sumar los valores por año o por tipo de patología (es una idea ahi el q haga esta pregunta decide bien) \n",
    "# Visualizar la distribución por grupo etario y tipo de causa (gráfico de barras o apilado el profe es más fan del apilado).  \n",
    "# con esto interpretamos los datos y respondemos la cuarta pregunta secundaria  "
   ]
  },
  {
   "cell_type": "markdown",
   "id": "5137842d-1363-42e1-97d5-b519773a9751",
   "metadata": {},
   "source": [
    "## **5. Integración de resultados y pregunta principal**"
   ]
  },
  {
   "cell_type": "markdown",
   "id": "b21e82fb-ff3a-4387-9ad7-374b1525a18b",
   "metadata": {},
   "source": [
    "**Objetivo:** Responder a la pregunta central del proyecto:  \n",
    "> **¿Se ha observado un aumento de las enfermedades respiratorias que motivan consultas en urgencias tras la pandemia, en comparación con el periodo previo al COVID-19?**"
   ]
  },
  {
   "cell_type": "code",
   "execution_count": 7,
   "id": "56a8e906-a96d-4b09-973e-4cec06f7c648",
   "metadata": {},
   "outputs": [],
   "source": [
    "# aquí me cuesta pensar como podríamos integrar lo que obtengamos de cada pregunta\n",
    "# asi que ayudenme "
   ]
  },
  {
   "cell_type": "code",
   "execution_count": null,
   "id": "0595c7c3-3c5e-4f53-a2bf-c123cd744ddb",
   "metadata": {},
   "outputs": [],
   "source": []
  }
 ],
 "metadata": {
  "kernelspec": {
   "display_name": "Python [conda env:base] *",
   "language": "python",
   "name": "conda-base-py"
  },
  "language_info": {
   "codemirror_mode": {
    "name": "ipython",
    "version": 3
   },
   "file_extension": ".py",
   "mimetype": "text/x-python",
   "name": "python",
   "nbconvert_exporter": "python",
   "pygments_lexer": "ipython3",
   "version": "3.13.5"
  }
 },
 "nbformat": 4,
 "nbformat_minor": 5
}
